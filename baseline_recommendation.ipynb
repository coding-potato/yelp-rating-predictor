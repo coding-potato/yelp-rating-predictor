{
 "cells": [
  {
   "cell_type": "code",
   "execution_count": 5,
   "metadata": {},
   "outputs": [],
   "source": [
    "%load_ext autoreload\n",
    "%autoreload 2"
   ]
  },
  {
   "cell_type": "code",
   "execution_count": 6,
   "metadata": {},
   "outputs": [],
   "source": [
    "import pandas as pd\n",
    "from source.utils import train_test_split_feature\n",
    "from surprise import Reader, Dataset\n",
    "from source.baseline_recommender import BaseLineRecommender"
   ]
  },
  {
   "cell_type": "code",
   "execution_count": 7,
   "metadata": {},
   "outputs": [],
   "source": [
    "feature = pd.read_csv(\"data/feature.csv\")\n",
    "cols = [\n",
    "        \"user_id\",\n",
    "        'business_id',\n",
    "        \"review_stars\",\n",
    "        \"review_date\"\n",
    "        ]\n",
    "selected_feature = feature[cols]\n",
    "train_set, test_set = train_test_split_feature(selected_feature.copy())\n",
    "reader = Reader(rating_scale=(1, 5))\n",
    "trainset = Dataset.load_from_df(train_set[['user_id', 'business_id', 'review_stars']], reader)\n",
    "testset = Dataset.load_from_df(test_set[['user_id', 'business_id', 'review_stars']], reader)\n",
    "trainset = trainset.build_full_trainset()\n",
    "testset = testset.build_full_trainset().build_testset()"
   ]
  },
  {
   "cell_type": "code",
   "execution_count": 8,
   "metadata": {},
   "outputs": [],
   "source": [
    "blr = BaseLineRecommender()"
   ]
  },
  {
   "cell_type": "code",
   "execution_count": 9,
   "metadata": {},
   "outputs": [
    {
     "name": "stdout",
     "output_type": "stream",
     "text": [
      "Estimating biases using als...\n"
     ]
    }
   ],
   "source": [
    "blr.fit(trainset)"
   ]
  },
  {
   "cell_type": "code",
   "execution_count": 10,
   "metadata": {},
   "outputs": [
    {
     "name": "stdout",
     "output_type": "stream",
     "text": [
      "RMSE: 1.2649\n"
     ]
    },
    {
     "data": {
      "text/plain": [
       "1.264900162961967"
      ]
     },
     "execution_count": 10,
     "metadata": {},
     "output_type": "execute_result"
    }
   ],
   "source": [
    "blr.rmse(testset)"
   ]
  },
  {
   "cell_type": "code",
   "execution_count": null,
   "metadata": {},
   "outputs": [],
   "source": []
  }
 ],
 "metadata": {
  "kernelspec": {
   "display_name": "Python 3",
   "language": "python",
   "name": "python3"
  },
  "language_info": {
   "codemirror_mode": {
    "name": "ipython",
    "version": 3
   },
   "file_extension": ".py",
   "mimetype": "text/x-python",
   "name": "python",
   "nbconvert_exporter": "python",
   "pygments_lexer": "ipython3",
   "version": "3.6.8"
  }
 },
 "nbformat": 4,
 "nbformat_minor": 2
}
