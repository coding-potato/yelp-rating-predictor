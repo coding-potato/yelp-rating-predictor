{
 "cells": [
  {
   "cell_type": "markdown",
   "metadata": {},
   "source": [
    "# EDAV and File Extraction\n",
    "\n",
    "Q. Why is the user review count different than the actual number of reviews returned for that user?\n",
    "\n",
    "The review count represents the total number of reviews a user had posted at the time of data collection, whether Yelp recommended them or not. As for the reviews, only the reviews that were recommended at the time of data collection are included. Also, we only include businesses that have had at least 3 reviews older than 14 days. So the review count number may differ from the number of actual reviews for any given user.\n",
    "\n",
    "Q. Which reviews are included in the reviews files?\n",
    "\n",
    "Only the reviews that Yelp recommended at the time of data collection are included.\n",
    "\n",
    "FAQ: https://www.yelp.com/dataset/documentation/faq\n",
    "\n",
    "Data reference: https://www.yelp.com/dataset/documentation/main"
   ]
  },
  {
   "cell_type": "code",
   "execution_count": 1,
   "metadata": {},
   "outputs": [],
   "source": [
    "# import references\n",
    "\n",
    "import pandas as pd\n",
    "import json\n",
    "from tqdm import tqdm\n",
    "import numpy as np\n",
    "import seaborn as sns\n",
    "import matplotlib.pyplot as plt\n",
    "from scipy import stats\n",
    "import pickle as pkl"
   ]
  },
  {
   "cell_type": "code",
   "execution_count": 2,
   "metadata": {},
   "outputs": [
    {
     "name": "stderr",
     "output_type": "stream",
     "text": [
      "100%|████████████████████████████████████████████████████████████████████| 6685900/6685900 [00:49<00:00, 134561.50it/s]\n"
     ]
    }
   ],
   "source": [
    "# review extraction \n",
    "\n",
    "line_count = len(open(\"data/review.json\", encoding=\"utf8\").readlines())\n",
    "rating_ids, user_ids, business_ids, stars, dates, props = [], [], [], [], [], []\n",
    "with open(\"data/review.json\", encoding=\"utf8\") as f:\n",
    "    for line in tqdm(f, total=line_count):\n",
    "        blob = json.loads(line)\n",
    "        rating_ids += [blob[\"review_id\"]]\n",
    "        user_ids += [blob[\"user_id\"]]\n",
    "        business_ids += [blob[\"business_id\"]]\n",
    "        stars += [blob[\"stars\"]]\n",
    "        dates += [blob[\"date\"]]\n",
    "        props += [blob[\"useful\"] + blob[\"funny\"] + blob[\"cool\"]]\n",
    "        \n",
    "ratings = pd.DataFrame({\"review_id\": rating_ids, \"user_id\": user_ids, \"business_id\": business_ids, \n",
    "                        \"rating\": stars, \"date\": dates, \"props\": props})\n"
   ]
  },
  {
   "cell_type": "code",
   "execution_count": 3,
   "metadata": {},
   "outputs": [
    {
     "data": {
      "text/html": [
       "<div>\n",
       "<style scoped>\n",
       "    .dataframe tbody tr th:only-of-type {\n",
       "        vertical-align: middle;\n",
       "    }\n",
       "\n",
       "    .dataframe tbody tr th {\n",
       "        vertical-align: top;\n",
       "    }\n",
       "\n",
       "    .dataframe thead th {\n",
       "        text-align: right;\n",
       "    }\n",
       "</style>\n",
       "<table border=\"1\" class=\"dataframe\">\n",
       "  <thead>\n",
       "    <tr style=\"text-align: right;\">\n",
       "      <th></th>\n",
       "      <th>review_id</th>\n",
       "      <th>user_id</th>\n",
       "      <th>business_id</th>\n",
       "      <th>rating</th>\n",
       "      <th>date</th>\n",
       "      <th>props</th>\n",
       "    </tr>\n",
       "  </thead>\n",
       "  <tbody>\n",
       "    <tr>\n",
       "      <th>0</th>\n",
       "      <td>Q1sbwvVQXV2734tPgoKj4Q</td>\n",
       "      <td>hG7b0MtEbXx5QzbzE6C_VA</td>\n",
       "      <td>ujmEBvifdJM6h6RLv4wQIg</td>\n",
       "      <td>1.0</td>\n",
       "      <td>2013-05-07 04:34:36</td>\n",
       "      <td>7</td>\n",
       "    </tr>\n",
       "    <tr>\n",
       "      <th>1</th>\n",
       "      <td>GJXCdrto3ASJOqKeVWPi6Q</td>\n",
       "      <td>yXQM5uF2jS6es16SJzNHfg</td>\n",
       "      <td>NZnhc2sEQy3RmzKTZnqtwQ</td>\n",
       "      <td>5.0</td>\n",
       "      <td>2017-01-14 21:30:33</td>\n",
       "      <td>0</td>\n",
       "    </tr>\n",
       "    <tr>\n",
       "      <th>2</th>\n",
       "      <td>2TzJjDVDEuAW6MR5Vuc1ug</td>\n",
       "      <td>n6-Gk65cPZL6Uz8qRm3NYw</td>\n",
       "      <td>WTqjgwHlXbSFevF32_DJVw</td>\n",
       "      <td>5.0</td>\n",
       "      <td>2016-11-09 20:09:03</td>\n",
       "      <td>3</td>\n",
       "    </tr>\n",
       "    <tr>\n",
       "      <th>3</th>\n",
       "      <td>yi0R0Ugj_xUx_Nek0-_Qig</td>\n",
       "      <td>dacAIZ6fTM6mqwW5uxkskg</td>\n",
       "      <td>ikCg8xy5JIg_NGPx-MSIDA</td>\n",
       "      <td>5.0</td>\n",
       "      <td>2018-01-09 20:56:38</td>\n",
       "      <td>0</td>\n",
       "    </tr>\n",
       "    <tr>\n",
       "      <th>4</th>\n",
       "      <td>11a8sVPMUFtaC7_ABRkmtw</td>\n",
       "      <td>ssoyf2_x0EQMed6fgHeMyQ</td>\n",
       "      <td>b1b1eb3uo-w561D0ZfCEiQ</td>\n",
       "      <td>1.0</td>\n",
       "      <td>2018-01-30 23:07:38</td>\n",
       "      <td>7</td>\n",
       "    </tr>\n",
       "  </tbody>\n",
       "</table>\n",
       "</div>"
      ],
      "text/plain": [
       "                review_id                 user_id             business_id  \\\n",
       "0  Q1sbwvVQXV2734tPgoKj4Q  hG7b0MtEbXx5QzbzE6C_VA  ujmEBvifdJM6h6RLv4wQIg   \n",
       "1  GJXCdrto3ASJOqKeVWPi6Q  yXQM5uF2jS6es16SJzNHfg  NZnhc2sEQy3RmzKTZnqtwQ   \n",
       "2  2TzJjDVDEuAW6MR5Vuc1ug  n6-Gk65cPZL6Uz8qRm3NYw  WTqjgwHlXbSFevF32_DJVw   \n",
       "3  yi0R0Ugj_xUx_Nek0-_Qig  dacAIZ6fTM6mqwW5uxkskg  ikCg8xy5JIg_NGPx-MSIDA   \n",
       "4  11a8sVPMUFtaC7_ABRkmtw  ssoyf2_x0EQMed6fgHeMyQ  b1b1eb3uo-w561D0ZfCEiQ   \n",
       "\n",
       "   rating                 date  props  \n",
       "0     1.0  2013-05-07 04:34:36      7  \n",
       "1     5.0  2017-01-14 21:30:33      0  \n",
       "2     5.0  2016-11-09 20:09:03      3  \n",
       "3     5.0  2018-01-09 20:56:38      0  \n",
       "4     1.0  2018-01-30 23:07:38      7  "
      ]
     },
     "execution_count": 3,
     "metadata": {},
     "output_type": "execute_result"
    }
   ],
   "source": [
    "ratings.head()"
   ]
  },
  {
   "cell_type": "code",
   "execution_count": 4,
   "metadata": {},
   "outputs": [
    {
     "name": "stderr",
     "output_type": "stream",
     "text": [
      "100%|███████████████████████████████████████████████████████████████████████| 192609/192609 [00:02<00:00, 73042.36it/s]\n"
     ]
    }
   ],
   "source": [
    "# business extraction\n",
    "\n",
    "line_count = len(open(\"data/business.json\", encoding=\"utf8\").readlines())\n",
    "business_ids, state, stars, review_count, is_open, attributes, categories, city, postal_code = [], [], [], [], [], [], [], [], []\n",
    "with open(\"data/business.json\", encoding=\"utf8\") as f:\n",
    "    for line in tqdm(f, total=line_count):\n",
    "        blob = json.loads(line)\n",
    "        business_ids += [blob[\"business_id\"]]\n",
    "        city += [blob[\"city\"]]\n",
    "        state += [blob[\"state\"]]\n",
    "        postal_code += [blob[\"postal_code\"]]\n",
    "        stars += [blob[\"stars\"]]\n",
    "        review_count += [blob[\"review_count\"]]\n",
    "        is_open += [blob[\"is_open\"]]\n",
    "        attributes += [blob[\"attributes\"]]\n",
    "        categories += [blob[\"categories\"]]\n",
    "        \n",
    "businesses = pd.DataFrame({\"business_id\": business_ids, \"city\": city, \"state\": state, \"postal_code\": postal_code, \n",
    "                           \"rating\": stars, \"review_count\": review_count, \"is_open\": is_open, \"attributes\": attributes,\n",
    "                           \"categories\": categories})"
   ]
  },
  {
   "cell_type": "code",
   "execution_count": 5,
   "metadata": {},
   "outputs": [
    {
     "data": {
      "text/html": [
       "<div>\n",
       "<style scoped>\n",
       "    .dataframe tbody tr th:only-of-type {\n",
       "        vertical-align: middle;\n",
       "    }\n",
       "\n",
       "    .dataframe tbody tr th {\n",
       "        vertical-align: top;\n",
       "    }\n",
       "\n",
       "    .dataframe thead th {\n",
       "        text-align: right;\n",
       "    }\n",
       "</style>\n",
       "<table border=\"1\" class=\"dataframe\">\n",
       "  <thead>\n",
       "    <tr style=\"text-align: right;\">\n",
       "      <th></th>\n",
       "      <th>business_id</th>\n",
       "      <th>city</th>\n",
       "      <th>state</th>\n",
       "      <th>postal_code</th>\n",
       "      <th>rating</th>\n",
       "      <th>review_count</th>\n",
       "      <th>is_open</th>\n",
       "      <th>attributes</th>\n",
       "      <th>categories</th>\n",
       "    </tr>\n",
       "  </thead>\n",
       "  <tbody>\n",
       "    <tr>\n",
       "      <th>0</th>\n",
       "      <td>1SWheh84yJXfytovILXOAQ</td>\n",
       "      <td>Phoenix</td>\n",
       "      <td>AZ</td>\n",
       "      <td>85016</td>\n",
       "      <td>3.0</td>\n",
       "      <td>5</td>\n",
       "      <td>0</td>\n",
       "      <td>{'GoodForKids': 'False'}</td>\n",
       "      <td>Golf, Active Life</td>\n",
       "    </tr>\n",
       "    <tr>\n",
       "      <th>1</th>\n",
       "      <td>QXAEGFB4oINsVuTFxEYKFQ</td>\n",
       "      <td>Mississauga</td>\n",
       "      <td>ON</td>\n",
       "      <td>L5R 3E7</td>\n",
       "      <td>2.5</td>\n",
       "      <td>128</td>\n",
       "      <td>1</td>\n",
       "      <td>{'RestaurantsReservations': 'True', 'GoodForMe...</td>\n",
       "      <td>Specialty Food, Restaurants, Dim Sum, Imported...</td>\n",
       "    </tr>\n",
       "    <tr>\n",
       "      <th>2</th>\n",
       "      <td>gnKjwL_1w79qoiV3IC_xQQ</td>\n",
       "      <td>Charlotte</td>\n",
       "      <td>NC</td>\n",
       "      <td>28210</td>\n",
       "      <td>4.0</td>\n",
       "      <td>170</td>\n",
       "      <td>1</td>\n",
       "      <td>{'GoodForKids': 'True', 'NoiseLevel': 'u'avera...</td>\n",
       "      <td>Sushi Bars, Restaurants, Japanese</td>\n",
       "    </tr>\n",
       "    <tr>\n",
       "      <th>3</th>\n",
       "      <td>xvX2CttrVhyG2z1dFg_0xw</td>\n",
       "      <td>Goodyear</td>\n",
       "      <td>AZ</td>\n",
       "      <td>85338</td>\n",
       "      <td>5.0</td>\n",
       "      <td>3</td>\n",
       "      <td>1</td>\n",
       "      <td>None</td>\n",
       "      <td>Insurance, Financial Services</td>\n",
       "    </tr>\n",
       "    <tr>\n",
       "      <th>4</th>\n",
       "      <td>HhyxOkGAM07SRYtlQ4wMFQ</td>\n",
       "      <td>Charlotte</td>\n",
       "      <td>NC</td>\n",
       "      <td>28217</td>\n",
       "      <td>4.0</td>\n",
       "      <td>4</td>\n",
       "      <td>1</td>\n",
       "      <td>{'BusinessAcceptsBitcoin': 'False', 'ByAppoint...</td>\n",
       "      <td>Plumbing, Shopping, Local Services, Home Servi...</td>\n",
       "    </tr>\n",
       "  </tbody>\n",
       "</table>\n",
       "</div>"
      ],
      "text/plain": [
       "              business_id         city state postal_code  rating  \\\n",
       "0  1SWheh84yJXfytovILXOAQ      Phoenix    AZ       85016     3.0   \n",
       "1  QXAEGFB4oINsVuTFxEYKFQ  Mississauga    ON     L5R 3E7     2.5   \n",
       "2  gnKjwL_1w79qoiV3IC_xQQ    Charlotte    NC       28210     4.0   \n",
       "3  xvX2CttrVhyG2z1dFg_0xw     Goodyear    AZ       85338     5.0   \n",
       "4  HhyxOkGAM07SRYtlQ4wMFQ    Charlotte    NC       28217     4.0   \n",
       "\n",
       "   review_count  is_open                                         attributes  \\\n",
       "0             5        0                           {'GoodForKids': 'False'}   \n",
       "1           128        1  {'RestaurantsReservations': 'True', 'GoodForMe...   \n",
       "2           170        1  {'GoodForKids': 'True', 'NoiseLevel': 'u'avera...   \n",
       "3             3        1                                               None   \n",
       "4             4        1  {'BusinessAcceptsBitcoin': 'False', 'ByAppoint...   \n",
       "\n",
       "                                          categories  \n",
       "0                                  Golf, Active Life  \n",
       "1  Specialty Food, Restaurants, Dim Sum, Imported...  \n",
       "2                  Sushi Bars, Restaurants, Japanese  \n",
       "3                      Insurance, Financial Services  \n",
       "4  Plumbing, Shopping, Local Services, Home Servi...  "
      ]
     },
     "execution_count": 5,
     "metadata": {},
     "output_type": "execute_result"
    }
   ],
   "source": [
    "businesses.head()"
   ]
  },
  {
   "cell_type": "code",
   "execution_count": 6,
   "metadata": {},
   "outputs": [
    {
     "name": "stderr",
     "output_type": "stream",
     "text": [
      "100%|█████████████████████████████████████████████████████████████████████| 1637138/1637138 [00:20<00:00, 78541.47it/s]\n"
     ]
    }
   ],
   "source": [
    "# user extraction\n",
    "\n",
    "line_count = len(open(\"data/user.json\", encoding=\"utf8\").readlines())\n",
    "user_ids, review_counts, yelping_since, sent_props, fans, elite, average_stars, compliments = [], [], [], [], [], [], [], []\n",
    "with open(\"data/user.json\", encoding=\"utf8\") as f:\n",
    "    for line in tqdm(f, total=line_count):\n",
    "        blob = json.loads(line)\n",
    "        user_ids += [blob[\"user_id\"]]\n",
    "        review_counts += [blob[\"review_count\"]]\n",
    "        yelping_since += [blob[\"yelping_since\"]]\n",
    "        sent_props += [blob[\"useful\"] + blob[\"funny\"] + blob[\"cool\"]]\n",
    "        fans += [blob[\"fans\"]]\n",
    "        elite += [blob[\"elite\"]]\n",
    "        average_stars += [blob[\"average_stars\"]]\n",
    "        compliments += [blob[\"compliment_hot\"] + blob[\"compliment_more\"] + \\\n",
    "                       blob[\"compliment_profile\"] + blob[\"compliment_cute\"] + \\\n",
    "                       blob[\"compliment_list\"] + blob[\"compliment_note\"] + \\\n",
    "                       blob[\"compliment_plain\"] + blob[\"compliment_cool\"] + \\\n",
    "                       blob[\"compliment_funny\"] + blob[\"compliment_writer\"] + \\\n",
    "                       blob[\"compliment_photos\"]]\n",
    "        \n",
    "users = pd.DataFrame({\"user_id\": user_ids, \"review_counts\": review_counts, \"yelping_since\": yelping_since, \n",
    "                           \"sent_props\": sent_props, \"fans\": fans, \"elite\": elite,\n",
    "                           \"average_stars\": average_stars, \"compliments\": compliments}) "
   ]
  },
  {
   "cell_type": "code",
   "execution_count": 7,
   "metadata": {},
   "outputs": [
    {
     "data": {
      "text/html": [
       "<div>\n",
       "<style scoped>\n",
       "    .dataframe tbody tr th:only-of-type {\n",
       "        vertical-align: middle;\n",
       "    }\n",
       "\n",
       "    .dataframe tbody tr th {\n",
       "        vertical-align: top;\n",
       "    }\n",
       "\n",
       "    .dataframe thead th {\n",
       "        text-align: right;\n",
       "    }\n",
       "</style>\n",
       "<table border=\"1\" class=\"dataframe\">\n",
       "  <thead>\n",
       "    <tr style=\"text-align: right;\">\n",
       "      <th></th>\n",
       "      <th>user_id</th>\n",
       "      <th>review_counts</th>\n",
       "      <th>yelping_since</th>\n",
       "      <th>sent_props</th>\n",
       "      <th>fans</th>\n",
       "      <th>elite</th>\n",
       "      <th>average_stars</th>\n",
       "      <th>compliments</th>\n",
       "    </tr>\n",
       "  </thead>\n",
       "  <tbody>\n",
       "    <tr>\n",
       "      <th>0</th>\n",
       "      <td>l6BmjZMeQD3rDxWUbiAiow</td>\n",
       "      <td>95</td>\n",
       "      <td>2013-10-08 23:11:33</td>\n",
       "      <td>126</td>\n",
       "      <td>5</td>\n",
       "      <td>2015,2016,2017</td>\n",
       "      <td>4.03</td>\n",
       "      <td>8</td>\n",
       "    </tr>\n",
       "    <tr>\n",
       "      <th>1</th>\n",
       "      <td>4XChL029mKr5hydo79Ljxg</td>\n",
       "      <td>33</td>\n",
       "      <td>2013-02-21 22:29:06</td>\n",
       "      <td>86</td>\n",
       "      <td>4</td>\n",
       "      <td></td>\n",
       "      <td>3.63</td>\n",
       "      <td>3</td>\n",
       "    </tr>\n",
       "    <tr>\n",
       "      <th>2</th>\n",
       "      <td>bc8C_eETBWL0olvFSJJd0w</td>\n",
       "      <td>16</td>\n",
       "      <td>2013-10-04 00:16:10</td>\n",
       "      <td>46</td>\n",
       "      <td>0</td>\n",
       "      <td></td>\n",
       "      <td>3.71</td>\n",
       "      <td>1</td>\n",
       "    </tr>\n",
       "    <tr>\n",
       "      <th>3</th>\n",
       "      <td>dD0gZpBctWGdWo9WlGuhlA</td>\n",
       "      <td>17</td>\n",
       "      <td>2014-05-22 15:57:30</td>\n",
       "      <td>48</td>\n",
       "      <td>5</td>\n",
       "      <td></td>\n",
       "      <td>4.85</td>\n",
       "      <td>4</td>\n",
       "    </tr>\n",
       "    <tr>\n",
       "      <th>4</th>\n",
       "      <td>MM4RJAeH6yuaN8oZDSt0RA</td>\n",
       "      <td>361</td>\n",
       "      <td>2013-10-23 07:02:50</td>\n",
       "      <td>2058</td>\n",
       "      <td>39</td>\n",
       "      <td>2015,2016,2017,2018</td>\n",
       "      <td>4.08</td>\n",
       "      <td>293</td>\n",
       "    </tr>\n",
       "  </tbody>\n",
       "</table>\n",
       "</div>"
      ],
      "text/plain": [
       "                  user_id  review_counts        yelping_since  sent_props  \\\n",
       "0  l6BmjZMeQD3rDxWUbiAiow             95  2013-10-08 23:11:33         126   \n",
       "1  4XChL029mKr5hydo79Ljxg             33  2013-02-21 22:29:06          86   \n",
       "2  bc8C_eETBWL0olvFSJJd0w             16  2013-10-04 00:16:10          46   \n",
       "3  dD0gZpBctWGdWo9WlGuhlA             17  2014-05-22 15:57:30          48   \n",
       "4  MM4RJAeH6yuaN8oZDSt0RA            361  2013-10-23 07:02:50        2058   \n",
       "\n",
       "   fans                elite  average_stars  compliments  \n",
       "0     5       2015,2016,2017           4.03            8  \n",
       "1     4                                3.63            3  \n",
       "2     0                                3.71            1  \n",
       "3     5                                4.85            4  \n",
       "4    39  2015,2016,2017,2018           4.08          293  "
      ]
     },
     "execution_count": 7,
     "metadata": {},
     "output_type": "execute_result"
    }
   ],
   "source": [
    "users.head()"
   ]
  },
  {
   "cell_type": "markdown",
   "metadata": {},
   "source": [
    "## Sampling Routine"
   ]
  },
  {
   "cell_type": "code",
   "execution_count": 8,
   "metadata": {},
   "outputs": [
    {
     "data": {
      "text/plain": [
       "6685900"
      ]
     },
     "execution_count": 8,
     "metadata": {},
     "output_type": "execute_result"
    }
   ],
   "source": [
    "len(ratings) # recommended ratings"
   ]
  },
  {
   "cell_type": "code",
   "execution_count": 9,
   "metadata": {},
   "outputs": [],
   "source": [
    "us_restaurant_mask = (businesses.postal_code.str.len() == 5) & businesses.categories.str.contains('Restaurants')\n",
    "restaurants = businesses[us_restaurant_mask]\n",
    "restaurant_ratings = ratings.loc[ratings.business_id.isin(restaurants.business_id)]\n",
    "restaurant_counts = restaurant_ratings[\"business_id\"].value_counts()\n",
    "active_restaurants = restaurant_counts.loc[restaurant_counts >= 5].index.tolist() \n",
    "active_restaurant_ratings = restaurant_ratings[restaurant_ratings.business_id.isin(active_restaurants)]"
   ]
  },
  {
   "cell_type": "code",
   "execution_count": 10,
   "metadata": {},
   "outputs": [
    {
     "data": {
      "text/plain": [
       "3424899"
      ]
     },
     "execution_count": 10,
     "metadata": {},
     "output_type": "execute_result"
    }
   ],
   "source": [
    "len(restaurant_ratings)"
   ]
  },
  {
   "cell_type": "code",
   "execution_count": 11,
   "metadata": {},
   "outputs": [
    {
     "data": {
      "text/plain": [
       "35828"
      ]
     },
     "execution_count": 11,
     "metadata": {},
     "output_type": "execute_result"
    }
   ],
   "source": [
    "len(restaurants)"
   ]
  },
  {
   "cell_type": "code",
   "execution_count": 12,
   "metadata": {
    "scrolled": true
   },
   "outputs": [
    {
     "data": {
      "text/plain": [
       "32531"
      ]
     },
     "execution_count": 12,
     "metadata": {},
     "output_type": "execute_result"
    }
   ],
   "source": [
    "len(active_restaurants)"
   ]
  },
  {
   "cell_type": "code",
   "execution_count": 13,
   "metadata": {},
   "outputs": [],
   "source": [
    "user_counts = active_restaurant_ratings[\"user_id\"].value_counts()\n",
    "active_users = user_counts.loc[user_counts >= 5].index.tolist()\n",
    "active_filtered_ratings = active_restaurant_ratings[active_restaurant_ratings.user_id.isin(active_users)]"
   ]
  },
  {
   "cell_type": "code",
   "execution_count": 14,
   "metadata": {
    "scrolled": true
   },
   "outputs": [
    {
     "data": {
      "text/plain": [
       "3413590"
      ]
     },
     "execution_count": 14,
     "metadata": {},
     "output_type": "execute_result"
    }
   ],
   "source": [
    "len(active_restaurant_ratings)"
   ]
  },
  {
   "cell_type": "code",
   "execution_count": 15,
   "metadata": {},
   "outputs": [
    {
     "data": {
      "text/plain": [
       "2099295"
      ]
     },
     "execution_count": 15,
     "metadata": {},
     "output_type": "execute_result"
    }
   ],
   "source": [
    "len(active_filtered_ratings)"
   ]
  },
  {
   "cell_type": "code",
   "execution_count": 16,
   "metadata": {},
   "outputs": [],
   "source": [
    "# extract a holdout rating from most recent rating\n",
    "\n",
    "y = active_filtered_ratings.sort_values('date').groupby('user_id').tail(1)\n",
    "X = active_filtered_ratings.loc[~active_filtered_ratings.review_id.isin(y.review_id)]"
   ]
  },
  {
   "cell_type": "code",
   "execution_count": 18,
   "metadata": {
    "scrolled": true
   },
   "outputs": [
    {
     "data": {
      "text/plain": [
       "147753"
      ]
     },
     "execution_count": 18,
     "metadata": {},
     "output_type": "execute_result"
    }
   ],
   "source": [
    "len(y)"
   ]
  },
  {
   "cell_type": "code",
   "execution_count": 19,
   "metadata": {},
   "outputs": [
    {
     "data": {
      "text/html": [
       "<div>\n",
       "<style scoped>\n",
       "    .dataframe tbody tr th:only-of-type {\n",
       "        vertical-align: middle;\n",
       "    }\n",
       "\n",
       "    .dataframe tbody tr th {\n",
       "        vertical-align: top;\n",
       "    }\n",
       "\n",
       "    .dataframe thead th {\n",
       "        text-align: right;\n",
       "    }\n",
       "</style>\n",
       "<table border=\"1\" class=\"dataframe\">\n",
       "  <thead>\n",
       "    <tr style=\"text-align: right;\">\n",
       "      <th></th>\n",
       "      <th>review_id</th>\n",
       "      <th>user_id</th>\n",
       "      <th>business_id</th>\n",
       "      <th>rating</th>\n",
       "      <th>date</th>\n",
       "      <th>props</th>\n",
       "    </tr>\n",
       "  </thead>\n",
       "  <tbody>\n",
       "    <tr>\n",
       "      <th>9781</th>\n",
       "      <td>yrySUMtAqwKUQ6eqLWX5PA</td>\n",
       "      <td>7VjGynQ1oCHZlytlm23Tgg</td>\n",
       "      <td>50NTSGbZ3pN5643_K1IReA</td>\n",
       "      <td>4.0</td>\n",
       "      <td>2005-05-17 00:45:12</td>\n",
       "      <td>2</td>\n",
       "    </tr>\n",
       "    <tr>\n",
       "      <th>6035313</th>\n",
       "      <td>sMwaexsG18eq5bW5WihsRA</td>\n",
       "      <td>c8qFkI_VusWo0xZvkjfBWQ</td>\n",
       "      <td>jxNdYI9sQmTkqfpTsmhGtg</td>\n",
       "      <td>3.0</td>\n",
       "      <td>2005-05-26 07:19:53</td>\n",
       "      <td>2</td>\n",
       "    </tr>\n",
       "    <tr>\n",
       "      <th>672514</th>\n",
       "      <td>j8NgHYhqe0GlJfIvqvKnKA</td>\n",
       "      <td>nZcvhWmyQ73TiFDxyGmuAQ</td>\n",
       "      <td>UydVmlfxab6O-CSnjeGZRw</td>\n",
       "      <td>4.0</td>\n",
       "      <td>2005-07-18 18:01:29</td>\n",
       "      <td>2</td>\n",
       "    </tr>\n",
       "    <tr>\n",
       "      <th>6064731</th>\n",
       "      <td>Z38q7MEl1Yiioxc--RkZVg</td>\n",
       "      <td>aIk07jxkia9izLMKRbaHHw</td>\n",
       "      <td>_5UAFrD3EDgJO1aZgRxH7w</td>\n",
       "      <td>5.0</td>\n",
       "      <td>2005-09-07 01:36:05</td>\n",
       "      <td>5</td>\n",
       "    </tr>\n",
       "    <tr>\n",
       "      <th>5368708</th>\n",
       "      <td>3ltm7UQ2SUlfym_ODhrMLg</td>\n",
       "      <td>gZ-CewXerXlytUGV-4nFRA</td>\n",
       "      <td>GHS1rVjO-RMcRB6WJLpCDQ</td>\n",
       "      <td>4.0</td>\n",
       "      <td>2005-09-12 13:58:56</td>\n",
       "      <td>0</td>\n",
       "    </tr>\n",
       "  </tbody>\n",
       "</table>\n",
       "</div>"
      ],
      "text/plain": [
       "                      review_id                 user_id  \\\n",
       "9781     yrySUMtAqwKUQ6eqLWX5PA  7VjGynQ1oCHZlytlm23Tgg   \n",
       "6035313  sMwaexsG18eq5bW5WihsRA  c8qFkI_VusWo0xZvkjfBWQ   \n",
       "672514   j8NgHYhqe0GlJfIvqvKnKA  nZcvhWmyQ73TiFDxyGmuAQ   \n",
       "6064731  Z38q7MEl1Yiioxc--RkZVg  aIk07jxkia9izLMKRbaHHw   \n",
       "5368708  3ltm7UQ2SUlfym_ODhrMLg  gZ-CewXerXlytUGV-4nFRA   \n",
       "\n",
       "                    business_id  rating                 date  props  \n",
       "9781     50NTSGbZ3pN5643_K1IReA     4.0  2005-05-17 00:45:12      2  \n",
       "6035313  jxNdYI9sQmTkqfpTsmhGtg     3.0  2005-05-26 07:19:53      2  \n",
       "672514   UydVmlfxab6O-CSnjeGZRw     4.0  2005-07-18 18:01:29      2  \n",
       "6064731  _5UAFrD3EDgJO1aZgRxH7w     5.0  2005-09-07 01:36:05      5  \n",
       "5368708  GHS1rVjO-RMcRB6WJLpCDQ     4.0  2005-09-12 13:58:56      0  "
      ]
     },
     "execution_count": 19,
     "metadata": {},
     "output_type": "execute_result"
    }
   ],
   "source": [
    "y.head()"
   ]
  },
  {
   "cell_type": "code",
   "execution_count": 20,
   "metadata": {
    "scrolled": true
   },
   "outputs": [
    {
     "data": {
      "text/html": [
       "<div>\n",
       "<style scoped>\n",
       "    .dataframe tbody tr th:only-of-type {\n",
       "        vertical-align: middle;\n",
       "    }\n",
       "\n",
       "    .dataframe tbody tr th {\n",
       "        vertical-align: top;\n",
       "    }\n",
       "\n",
       "    .dataframe thead th {\n",
       "        text-align: right;\n",
       "    }\n",
       "</style>\n",
       "<table border=\"1\" class=\"dataframe\">\n",
       "  <thead>\n",
       "    <tr style=\"text-align: right;\">\n",
       "      <th></th>\n",
       "      <th>review_id</th>\n",
       "      <th>user_id</th>\n",
       "      <th>business_id</th>\n",
       "      <th>rating</th>\n",
       "      <th>date</th>\n",
       "      <th>props</th>\n",
       "    </tr>\n",
       "  </thead>\n",
       "  <tbody>\n",
       "    <tr>\n",
       "      <th>9781</th>\n",
       "      <td>yrySUMtAqwKUQ6eqLWX5PA</td>\n",
       "      <td>7VjGynQ1oCHZlytlm23Tgg</td>\n",
       "      <td>50NTSGbZ3pN5643_K1IReA</td>\n",
       "      <td>4.0</td>\n",
       "      <td>2005-05-17 00:45:12</td>\n",
       "      <td>2</td>\n",
       "    </tr>\n",
       "    <tr>\n",
       "      <th>1338725</th>\n",
       "      <td>Nq6IDrsjcwAZTB0SPp7K9A</td>\n",
       "      <td>7VjGynQ1oCHZlytlm23Tgg</td>\n",
       "      <td>BVYvfJiVcQTl9B311z518w</td>\n",
       "      <td>5.0</td>\n",
       "      <td>2005-04-15 02:20:57</td>\n",
       "      <td>0</td>\n",
       "    </tr>\n",
       "    <tr>\n",
       "      <th>1339659</th>\n",
       "      <td>Z76gsHaX5Ld5SXOwu9NSAA</td>\n",
       "      <td>7VjGynQ1oCHZlytlm23Tgg</td>\n",
       "      <td>cI7k9zqs_pl3byUDE4cpdA</td>\n",
       "      <td>4.0</td>\n",
       "      <td>2005-04-08 04:35:49</td>\n",
       "      <td>3</td>\n",
       "    </tr>\n",
       "    <tr>\n",
       "      <th>5350733</th>\n",
       "      <td>NB4E9LQKJxo0SPnWV6taCQ</td>\n",
       "      <td>7VjGynQ1oCHZlytlm23Tgg</td>\n",
       "      <td>pSQFynH1VxkfSmehRXlZWw</td>\n",
       "      <td>5.0</td>\n",
       "      <td>2005-03-08 22:19:43</td>\n",
       "      <td>3</td>\n",
       "    </tr>\n",
       "    <tr>\n",
       "      <th>5351031</th>\n",
       "      <td>dDr-sU4GsDqsZc8ehSjvyA</td>\n",
       "      <td>7VjGynQ1oCHZlytlm23Tgg</td>\n",
       "      <td>MqYYYNA-ZYvV-1w5qcmMoA</td>\n",
       "      <td>5.0</td>\n",
       "      <td>2005-03-09 04:04:25</td>\n",
       "      <td>0</td>\n",
       "    </tr>\n",
       "  </tbody>\n",
       "</table>\n",
       "</div>"
      ],
      "text/plain": [
       "                      review_id                 user_id  \\\n",
       "9781     yrySUMtAqwKUQ6eqLWX5PA  7VjGynQ1oCHZlytlm23Tgg   \n",
       "1338725  Nq6IDrsjcwAZTB0SPp7K9A  7VjGynQ1oCHZlytlm23Tgg   \n",
       "1339659  Z76gsHaX5Ld5SXOwu9NSAA  7VjGynQ1oCHZlytlm23Tgg   \n",
       "5350733  NB4E9LQKJxo0SPnWV6taCQ  7VjGynQ1oCHZlytlm23Tgg   \n",
       "5351031  dDr-sU4GsDqsZc8ehSjvyA  7VjGynQ1oCHZlytlm23Tgg   \n",
       "\n",
       "                    business_id  rating                 date  props  \n",
       "9781     50NTSGbZ3pN5643_K1IReA     4.0  2005-05-17 00:45:12      2  \n",
       "1338725  BVYvfJiVcQTl9B311z518w     5.0  2005-04-15 02:20:57      0  \n",
       "1339659  cI7k9zqs_pl3byUDE4cpdA     4.0  2005-04-08 04:35:49      3  \n",
       "5350733  pSQFynH1VxkfSmehRXlZWw     5.0  2005-03-08 22:19:43      3  \n",
       "5351031  MqYYYNA-ZYvV-1w5qcmMoA     5.0  2005-03-09 04:04:25      0  "
      ]
     },
     "execution_count": 20,
     "metadata": {},
     "output_type": "execute_result"
    }
   ],
   "source": [
    "active_filtered_ratings.loc[active_filtered_ratings.user_id =='7VjGynQ1oCHZlytlm23Tgg'] # test"
   ]
  },
  {
   "cell_type": "code",
   "execution_count": 22,
   "metadata": {},
   "outputs": [
    {
     "name": "stderr",
     "output_type": "stream",
     "text": [
      "C:\\Users\\Jason\\Anaconda3\\lib\\site-packages\\scipy\\stats\\stats.py:1713: FutureWarning: Using a non-tuple sequence for multidimensional indexing is deprecated; use `arr[tuple(seq)]` instead of `arr[seq]`. In the future this will be interpreted as an array index, `arr[np.array(seq)]`, which will result either in an error or a different result.\n",
      "  return np.add.reduce(sorted[indexer] * weights, axis=axis) / sumval\n"
     ]
    },
    {
     "data": {
      "image/png": "[encoded data removed]",
      "text/plain": [
       "<Figure size 432x288 with 1 Axes>"
      ]
     },
     "metadata": {
      "needs_background": "light"
     },
     "output_type": "display_data"
    }
   ],
   "source": [
    "sns.distplot(X.business_id.value_counts());"
   ]
  },
  {
   "cell_type": "code",
   "execution_count": 23,
   "metadata": {},
   "outputs": [
    {
     "data": {
      "image/png": "[encoded data removed]",
      "text/plain": [
       "<Figure size 432x288 with 1 Axes>"
      ]
     },
     "metadata": {
      "needs_background": "light"
     },
     "output_type": "display_data"
    }
   ],
   "source": [
    "sns.distplot(X.user_id.value_counts());"
   ]
  },
  {
   "cell_type": "code",
   "execution_count": 24,
   "metadata": {},
   "outputs": [
    {
     "data": {
      "image/png": "[encoded data removed]",
      "text/plain": [
       "<Figure size 432x288 with 1 Axes>"
      ]
     },
     "metadata": {
      "needs_background": "light"
     },
     "output_type": "display_data"
    }
   ],
   "source": [
    "rating_cnt = X.rating.value_counts()\n",
    "sns.barplot(rating_cnt.index, rating_cnt.values);"
   ]
  },
  {
   "cell_type": "code",
   "execution_count": 27,
   "metadata": {},
   "outputs": [
    {
     "data": {
      "text/plain": [
       "1951542"
      ]
     },
     "execution_count": 27,
     "metadata": {},
     "output_type": "execute_result"
    }
   ],
   "source": [
    "len(X)"
   ]
  },
  {
   "cell_type": "code",
   "execution_count": 28,
   "metadata": {},
   "outputs": [],
   "source": [
    "# filter business and user mappings for what we have in ratings set\n",
    "businesses_filtered = businesses[businesses.business_id.isin(X.business_id)]\n",
    "users_filtered = users[users.user_id.isin(X.user_id)]"
   ]
  },
  {
   "cell_type": "code",
   "execution_count": 29,
   "metadata": {},
   "outputs": [],
   "source": [
    "# save businesses metadata\n",
    "pkl.dump(businesses_filtered, open(\"businesses.pkl\", \"wb\"))"
   ]
  },
  {
   "cell_type": "code",
   "execution_count": 30,
   "metadata": {},
   "outputs": [],
   "source": [
    "# save users metadata\n",
    "pkl.dump(users_filtered, open(\"users.pkl\", \"wb\"))"
   ]
  },
  {
   "cell_type": "code",
   "execution_count": 31,
   "metadata": {},
   "outputs": [],
   "source": [
    "# save X Y\n",
    "pkl.dump(X, open(\"X.pkl\", \"wb\"))\n",
    "pkl.dump(y, open(\"y.pkl\", \"wb\"))"
   ]
  },
  {
   "cell_type": "code",
   "execution_count": null,
   "metadata": {},
   "outputs": [],
   "source": []
  }
 ],
 "metadata": {
  "kernelspec": {
   "display_name": "Python 3",
   "language": "python",
   "name": "python3"
  },
  "language_info": {
   "codemirror_mode": {
    "name": "ipython",
    "version": 3
   },
   "file_extension": ".py",
   "mimetype": "text/x-python",
   "name": "python",
   "nbconvert_exporter": "python",
   "pygments_lexer": "ipython3",
   "version": "3.6.8"
  }
 },
 "nbformat": 4,
 "nbformat_minor": 2
}
