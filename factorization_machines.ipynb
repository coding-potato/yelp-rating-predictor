{
 "cells": [
  {
   "cell_type": "code",
   "execution_count": 2,
   "metadata": {},
   "outputs": [
    {
     "name": "stdout",
     "output_type": "stream",
     "text": [
      "The autoreload extension is already loaded. To reload it, use:\n",
      "  %reload_ext autoreload\n"
     ]
    },
    {
     "data": {
      "application/javascript": [
       "\n",
       "            setTimeout(function() {\n",
       "                var nbb_cell_id = 2;\n",
       "                var nbb_formatted_code = \"%load_ext nb_black\\n%load_ext autoreload\\n%autoreload 2\";\n",
       "                var nbb_cells = Jupyter.notebook.get_cells();\n",
       "                for (var i = 0; i < nbb_cells.length; ++i) {\n",
       "                    if (nbb_cells[i].input_prompt_number == nbb_cell_id) {\n",
       "                        nbb_cells[i].set_text(nbb_formatted_code);\n",
       "                        break;\n",
       "                    }\n",
       "                }\n",
       "            }, 500);\n",
       "            "
      ],
      "text/plain": [
       "<IPython.core.display.Javascript object>"
      ]
     },
     "metadata": {},
     "output_type": "display_data"
    }
   ],
   "source": [
    "%load_ext nb_black\n",
    "%load_ext autoreload\n",
    "%autoreload 2"
   ]
  },
  {
   "cell_type": "code",
   "execution_count": 3,
   "metadata": {},
   "outputs": [
    {
     "data": {
      "application/javascript": [
       "\n",
       "            setTimeout(function() {\n",
       "                var nbb_cell_id = 3;\n",
       "                var nbb_formatted_code = \"import pandas as pd\\nimport numpy as np\\nimport scipy\\nfrom fastFM import als\\nfrom sklearn.metrics import make_scorer, mean_squared_error\\nfrom sklearn.model_selection import GridSearchCV\\nfrom source.utils import train_test_split_feature, rmse_scorer, rmse\\nfrom sklearn.preprocessing import OneHotEncoder\";\n",
       "                var nbb_cells = Jupyter.notebook.get_cells();\n",
       "                for (var i = 0; i < nbb_cells.length; ++i) {\n",
       "                    if (nbb_cells[i].input_prompt_number == nbb_cell_id) {\n",
       "                        nbb_cells[i].set_text(nbb_formatted_code);\n",
       "                        break;\n",
       "                    }\n",
       "                }\n",
       "            }, 500);\n",
       "            "
      ],
      "text/plain": [
       "<IPython.core.display.Javascript object>"
      ]
     },
     "metadata": {},
     "output_type": "display_data"
    }
   ],
   "source": [
    "import pandas as pd\n",
    "import numpy as np\n",
    "import scipy\n",
    "from fastFM import als\n",
    "from sklearn.metrics import make_scorer, mean_squared_error\n",
    "from sklearn.model_selection import GridSearchCV\n",
    "from source.utils import train_test_split_feature, rmse_scorer, rmse\n",
    "from sklearn.preprocessing import OneHotEncoder"
   ]
  },
  {
   "cell_type": "code",
   "execution_count": 4,
   "metadata": {},
   "outputs": [
    {
     "data": {
      "text/plain": [
       "(1814134, 85)"
      ]
     },
     "execution_count": 4,
     "metadata": {},
     "output_type": "execute_result"
    },
    {
     "data": {
      "application/javascript": [
       "\n",
       "            setTimeout(function() {\n",
       "                var nbb_cell_id = 4;\n",
       "                var nbb_formatted_code = \"feature = pd.read_csv(\\\"data/feature.csv\\\")\\n# feature = feature.sample(10000)\\nfeature.shape\";\n",
       "                var nbb_cells = Jupyter.notebook.get_cells();\n",
       "                for (var i = 0; i < nbb_cells.length; ++i) {\n",
       "                    if (nbb_cells[i].input_prompt_number == nbb_cell_id) {\n",
       "                        nbb_cells[i].set_text(nbb_formatted_code);\n",
       "                        break;\n",
       "                    }\n",
       "                }\n",
       "            }, 500);\n",
       "            "
      ],
      "text/plain": [
       "<IPython.core.display.Javascript object>"
      ]
     },
     "metadata": {},
     "output_type": "display_data"
    }
   ],
   "source": [
    "feature = pd.read_csv(\"data/feature.csv\")\n",
    "# feature = feature.sample(10000)\n",
    "feature.shape"
   ]
  },
  {
   "cell_type": "code",
   "execution_count": 22,
   "metadata": {},
   "outputs": [
    {
     "data": {
      "application/javascript": [
       "\n",
       "            setTimeout(function() {\n",
       "                var nbb_cell_id = 22;\n",
       "                var nbb_formatted_code = \"sample_n_users = 5000\\nusers = pd.Series(feature.user_id.unique())\\nsampled_users = users.sample(sample_n_users, random_state=1)\\nfeature = feature[feature.user_id.isin(sampled_users)].copy().reset_index(drop=True)\";\n",
       "                var nbb_cells = Jupyter.notebook.get_cells();\n",
       "                for (var i = 0; i < nbb_cells.length; ++i) {\n",
       "                    if (nbb_cells[i].input_prompt_number == nbb_cell_id) {\n",
       "                        nbb_cells[i].set_text(nbb_formatted_code);\n",
       "                        break;\n",
       "                    }\n",
       "                }\n",
       "            }, 500);\n",
       "            "
      ],
      "text/plain": [
       "<IPython.core.display.Javascript object>"
      ]
     },
     "metadata": {},
     "output_type": "display_data"
    }
   ],
   "source": [
    "# Just sample some data to train quickly\n",
    "sample_n_users = 5000\n",
    "users = pd.Series(feature.user_id.unique())\n",
    "sampled_users = users.sample(sample_n_users, random_state=1)\n",
    "feature = feature[feature.user_id.isin(sampled_users)].copy().reset_index(drop=True)"
   ]
  },
  {
   "cell_type": "code",
   "execution_count": 24,
   "metadata": {},
   "outputs": [
    {
     "data": {
      "application/javascript": [
       "\n",
       "            setTimeout(function() {\n",
       "                var nbb_cell_id = 24;\n",
       "                var nbb_formatted_code = \"onehot = OneHotEncoder(sparse=False)\\ncat_wide = onehot.fit_transform(feature[[\\\"user_id\\\", \\\"business_id\\\"]])\\n\\nuser_cols = onehot.categories_[0].tolist()\\nbus_cols = onehot.categories_[1].tolist()\\ncat_wide = pd.DataFrame(cat_wide, columns=user_cols + bus_cols)\";\n",
       "                var nbb_cells = Jupyter.notebook.get_cells();\n",
       "                for (var i = 0; i < nbb_cells.length; ++i) {\n",
       "                    if (nbb_cells[i].input_prompt_number == nbb_cell_id) {\n",
       "                        nbb_cells[i].set_text(nbb_formatted_code);\n",
       "                        break;\n",
       "                    }\n",
       "                }\n",
       "            }, 500);\n",
       "            "
      ],
      "text/plain": [
       "<IPython.core.display.Javascript object>"
      ]
     },
     "metadata": {},
     "output_type": "display_data"
    }
   ],
   "source": [
    "# onehot encode user_id and business_id\n",
    "onehot = OneHotEncoder(sparse=False)\n",
    "cat_wide = onehot.fit_transform(feature[[\"user_id\", \"business_id\"]])\n",
    "\n",
    "user_cols = onehot.categories_[0].tolist()\n",
    "bus_cols = onehot.categories_[1].tolist()\n",
    "cat_wide = pd.DataFrame(cat_wide, columns=user_cols + bus_cols)\n",
    "feature = pd.merge(feature, cat_wide, left_index=True, right_index=True)"
   ]
  },
  {
   "cell_type": "code",
   "execution_count": null,
   "metadata": {
    "scrolled": true
   },
   "outputs": [],
   "source": [
    "# user_wide = pd.get_dummies(feature.user_id, prefix=\"user_id\")\n",
    "# bus_wide = pd.get_dummies(feature.business_id, prefix=\"business_id\")\n",
    "\n",
    "# feature = feature.join(user_wide)\n",
    "# feature = feature.join(bus_wide)\n",
    "\n",
    "# user_cols = user_wide.columns.to_list()\n",
    "# bus_cols = bus_wide.columns.to_list()"
   ]
  },
  {
   "cell_type": "code",
   "execution_count": 38,
   "metadata": {},
   "outputs": [
    {
     "data": {
      "application/javascript": [
       "\n",
       "            setTimeout(function() {\n",
       "                var nbb_cell_id = 38;\n",
       "                var nbb_formatted_code = \"def create_x_y(train, test):\\n    y_col = \\\"review_stars\\\"\\n    drop_cols = [y_col, \\\"user_id\\\", \\\"review_date\\\"]\\n    X_train, y_train = train.drop(columns=drop_cols), train[y_col]\\n    X_test, y_test = test.drop(columns=drop_cols), test[y_col]\\n\\n    X_train = scipy.sparse.csc_matrix(X_train.values)\\n    X_test = scipy.sparse.csc_matrix(X_test.values)\\n\\n    return X_train, X_test, y_train, y_test\";\n",
       "                var nbb_cells = Jupyter.notebook.get_cells();\n",
       "                for (var i = 0; i < nbb_cells.length; ++i) {\n",
       "                    if (nbb_cells[i].input_prompt_number == nbb_cell_id) {\n",
       "                        nbb_cells[i].set_text(nbb_formatted_code);\n",
       "                        break;\n",
       "                    }\n",
       "                }\n",
       "            }, 500);\n",
       "            "
      ],
      "text/plain": [
       "<IPython.core.display.Javascript object>"
      ]
     },
     "metadata": {},
     "output_type": "display_data"
    }
   ],
   "source": [
    "def create_x_y(train, test):\n",
    "    y_col = \"review_stars\"\n",
    "    drop_cols = [y_col, \"user_id\", \"review_date\"]\n",
    "    X_train, y_train = train.drop(columns=drop_cols), train[y_col]\n",
    "    X_test, y_test = test.drop(columns=drop_cols), test[y_col]\n",
    "\n",
    "    X_train = scipy.sparse.csc_matrix(X_train.values)\n",
    "    X_test = scipy.sparse.csc_matrix(X_test.values)\n",
    "\n",
    "    return X_train, X_test, y_train, y_test"
   ]
  },
  {
   "cell_type": "code",
   "execution_count": 39,
   "metadata": {
    "scrolled": true
   },
   "outputs": [
    {
     "data": {
      "text/plain": [
       "('rmse:', 1.455719774152857)"
      ]
     },
     "execution_count": 39,
     "metadata": {},
     "output_type": "execute_result"
    },
    {
     "data": {
      "application/javascript": [
       "\n",
       "            setTimeout(function() {\n",
       "                var nbb_cell_id = 39;\n",
       "                var nbb_formatted_code = \"feat_cols = [\\n    #  'review_props',\\n    #     \\\"user_review_count\\\",\\n    #     \\\"user_elite\\\",\\n    #  'user_fans',\\n    #     \\\"user_average_stars\\\",\\n    #  'user_compliment',\\n    #  'user_yelping_years',\\n    #     \\\"business_stars\\\",\\n    #     \\\"business_review_count\\\",\\n    #     \\\"American (New)\\\",\\n    #     \\\"American (Traditional)\\\",\\n    #     \\\"Arts & Entertainment\\\",\\n    #     \\\"Asian Fusion\\\",\\n    #     \\\"Bagels\\\",\\n    #     \\\"Bakeries\\\",\\n    #     \\\"Barbeque\\\",\\n    #     \\\"Bars\\\",\\n    #     \\\"Beer\\\",\\n    #     \\\"Beer Bar\\\",\\n    #     \\\"Breakfast & Brunch\\\",\\n    #     \\\"Breweries\\\",\\n    #     \\\"Buffets\\\",\\n    #     \\\"Burgers\\\",\\n    #     \\\"Cafes\\\",\\n    #     \\\"Caterers\\\",\\n    #     \\\"Chicken Wings\\\",\\n    #     \\\"Chinese\\\",\\n    #     \\\"Cocktail Bars\\\",\\n    #     \\\"Coffee & Tea\\\",\\n    #     \\\"Comfort Food\\\",\\n    #     \\\"Delis\\\",\\n    #     \\\"Desserts\\\",\\n    #     \\\"Diners\\\",\\n    #     \\\"Ethnic Food\\\",\\n    #     \\\"Event Planning & Services\\\",\\n    #     \\\"Fast Food\\\",\\n    #     \\\"Food\\\",\\n    #     \\\"Food Delivery Services\\\",\\n    #     \\\"French\\\",\\n    #     \\\"Gastropubs\\\",\\n    #     \\\"Gluten-Free\\\",\\n    #     \\\"Greek\\\",\\n    #     \\\"Hawaiian\\\",\\n    #     \\\"Hot Dogs\\\",\\n    #     \\\"Hotels\\\",\\n    #     \\\"Hotels & Travel\\\",\\n    #     \\\"Ice Cream & Frozen Yogurt\\\",\\n    #     \\\"Indian\\\",\\n    #     \\\"Italian\\\",\\n    #     \\\"Japanese\\\",\\n    #     \\\"Juice Bars & Smoothies\\\",\\n    #     \\\"Korean\\\",\\n    #     \\\"Latin American\\\",\\n    #     \\\"Lounges\\\",\\n    #     \\\"Mediterranean\\\",\\n    #     \\\"Mexican\\\",\\n    #     \\\"Middle Eastern\\\",\\n    #     \\\"Music Venues\\\",\\n    #     \\\"Nightlife\\\",\\n    #     \\\"Noodles\\\",\\n    #     \\\"Pizza\\\",\\n    #     \\\"Pubs\\\",\\n    #     \\\"Salad\\\",\\n    #     \\\"Sandwiches\\\",\\n    #     \\\"Seafood\\\",\\n    #     \\\"Soup\\\",\\n    #     \\\"Southern\\\",\\n    #     \\\"Specialty Food\\\",\\n    #     \\\"Sports Bars\\\",\\n    #     \\\"Steakhouses\\\",\\n    #     \\\"Sushi Bars\\\",\\n    #     \\\"Tacos\\\",\\n    #     \\\"Tapas/Small Plates\\\",\\n    #     \\\"Tex-Mex\\\",\\n    #     \\\"Thai\\\",\\n    #     \\\"Vegan\\\",\\n    #     \\\"Vegetarian\\\",\\n    #     \\\"Venues & Event Spaces\\\",\\n    #     \\\"Vietnamese\\\",\\n    #     \\\"Wine & Spirits\\\",\\n    #     \\\"Wine Bars\\\",\\n]\\n\\nbase_cols = [\\\"user_id\\\", \\\"review_stars\\\", \\\"review_date\\\"]\\n\\nselected_feature = feature[base_cols + user_cols + bus_cols + feat_cols].copy()\\ntrain, test = train_test_split_feature(selected_feature)\\nX_train, X_test, y_train, y_test = create_x_y(train, test)\\n\\nfm = als.FMRegression(n_iter=1000, init_stdev=0.1, rank=20, l2_reg_w=0.1, l2_reg_V=0.5)\\nfm.fit(X_train, y_train)\\ny_pred = fm.predict(X_test)\\n\\nrmse_val = rmse(y_test, y_pred)\\n\\nresult = pd.DataFrame([{\\\"Features\\\": feat_cols, \\\"RMSE\\\": rmse_val}])\\nresult.to_csv(\\\"data/feature_selection.csv\\\", mode=\\\"a\\\", header=False, index=False)\\n\\n\\\"rmse:\\\", rmse_val\";\n",
       "                var nbb_cells = Jupyter.notebook.get_cells();\n",
       "                for (var i = 0; i < nbb_cells.length; ++i) {\n",
       "                    if (nbb_cells[i].input_prompt_number == nbb_cell_id) {\n",
       "                        nbb_cells[i].set_text(nbb_formatted_code);\n",
       "                        break;\n",
       "                    }\n",
       "                }\n",
       "            }, 500);\n",
       "            "
      ],
      "text/plain": [
       "<IPython.core.display.Javascript object>"
      ]
     },
     "metadata": {},
     "output_type": "display_data"
    }
   ],
   "source": [
    "feat_cols = [\n",
    "    #  'review_props',\n",
    "    #     \"user_review_count\",\n",
    "    #     \"user_elite\",\n",
    "    #  'user_fans',\n",
    "    #     \"user_average_stars\",\n",
    "    #  'user_compliment',\n",
    "    #  'user_yelping_years',\n",
    "    #     \"business_stars\",\n",
    "    #     \"business_review_count\",\n",
    "    #     \"American (New)\",\n",
    "    #     \"American (Traditional)\",\n",
    "    #     \"Arts & Entertainment\",\n",
    "    #     \"Asian Fusion\",\n",
    "    #     \"Bagels\",\n",
    "    #     \"Bakeries\",\n",
    "    #     \"Barbeque\",\n",
    "    #     \"Bars\",\n",
    "    #     \"Beer\",\n",
    "    #     \"Beer Bar\",\n",
    "    #     \"Breakfast & Brunch\",\n",
    "    #     \"Breweries\",\n",
    "    #     \"Buffets\",\n",
    "    #     \"Burgers\",\n",
    "    #     \"Cafes\",\n",
    "    #     \"Caterers\",\n",
    "    #     \"Chicken Wings\",\n",
    "    #     \"Chinese\",\n",
    "    #     \"Cocktail Bars\",\n",
    "    #     \"Coffee & Tea\",\n",
    "    #     \"Comfort Food\",\n",
    "    #     \"Delis\",\n",
    "    #     \"Desserts\",\n",
    "    #     \"Diners\",\n",
    "    #     \"Ethnic Food\",\n",
    "    #     \"Event Planning & Services\",\n",
    "    #     \"Fast Food\",\n",
    "    #     \"Food\",\n",
    "    #     \"Food Delivery Services\",\n",
    "    #     \"French\",\n",
    "    #     \"Gastropubs\",\n",
    "    #     \"Gluten-Free\",\n",
    "    #     \"Greek\",\n",
    "    #     \"Hawaiian\",\n",
    "    #     \"Hot Dogs\",\n",
    "    #     \"Hotels\",\n",
    "    #     \"Hotels & Travel\",\n",
    "    #     \"Ice Cream & Frozen Yogurt\",\n",
    "    #     \"Indian\",\n",
    "    #     \"Italian\",\n",
    "    #     \"Japanese\",\n",
    "    #     \"Juice Bars & Smoothies\",\n",
    "    #     \"Korean\",\n",
    "    #     \"Latin American\",\n",
    "    #     \"Lounges\",\n",
    "    #     \"Mediterranean\",\n",
    "    #     \"Mexican\",\n",
    "    #     \"Middle Eastern\",\n",
    "    #     \"Music Venues\",\n",
    "    #     \"Nightlife\",\n",
    "    #     \"Noodles\",\n",
    "    #     \"Pizza\",\n",
    "    #     \"Pubs\",\n",
    "    #     \"Salad\",\n",
    "    #     \"Sandwiches\",\n",
    "    #     \"Seafood\",\n",
    "    #     \"Soup\",\n",
    "    #     \"Southern\",\n",
    "    #     \"Specialty Food\",\n",
    "    #     \"Sports Bars\",\n",
    "    #     \"Steakhouses\",\n",
    "    #     \"Sushi Bars\",\n",
    "    #     \"Tacos\",\n",
    "    #     \"Tapas/Small Plates\",\n",
    "    #     \"Tex-Mex\",\n",
    "    #     \"Thai\",\n",
    "    #     \"Vegan\",\n",
    "    #     \"Vegetarian\",\n",
    "    #     \"Venues & Event Spaces\",\n",
    "    #     \"Vietnamese\",\n",
    "    #     \"Wine & Spirits\",\n",
    "    #     \"Wine Bars\",\n",
    "]\n",
    "\n",
    "base_cols = [\"user_id\", \"review_stars\", \"review_date\"]\n",
    "\n",
    "selected_feature = feature[base_cols + user_cols + bus_cols + feat_cols].copy()\n",
    "train, test = train_test_split_feature(selected_feature)\n",
    "X_train, X_test, y_train, y_test = create_x_y(train, test)\n",
    "\n",
    "fm = als.FMRegression(n_iter=1000, init_stdev=0.1, rank=20, l2_reg_w=0.1, l2_reg_V=0.5)\n",
    "fm.fit(X_train, y_train)\n",
    "y_pred = fm.predict(X_test)\n",
    "\n",
    "rmse_val = rmse(y_test, y_pred)\n",
    "\n",
    "result = pd.DataFrame([{\"Features\": feat_cols, \"RMSE\": rmse_val}])\n",
    "result.to_csv(\"data/feature_selection.csv\", mode=\"a\", header=False, index=False)\n",
    "\n",
    "\"rmse:\", rmse_val"
   ]
  },
  {
   "cell_type": "markdown",
   "metadata": {},
   "source": [
    "# Hyperparameter Tuning"
   ]
  },
  {
   "cell_type": "code",
   "execution_count": null,
   "metadata": {},
   "outputs": [],
   "source": [
    "params = {\n",
    "    \"l2_reg_w\": np.linspace(0.01, 0.3, num=3),\n",
    "    \"l2_reg_V\": np.linspace(0.1, 0.5, num=3),\n",
    "}\n",
    "\n",
    "fm = als.FMRegression(n_iter=1000, init_stdev=0.1, rank=20)\n",
    "grid = GridSearchCV(fm, params, verbose=3, n_jobs=-1, scoring=rmse_scorer)\n",
    "grid.fit(X_train, y_train)\n",
    "y_pred = grid.predict(X_test)\n",
    "\n",
    "\"rmse:\", rmse(y_test, y_pred)"
   ]
  },
  {
   "cell_type": "code",
   "execution_count": null,
   "metadata": {},
   "outputs": [],
   "source": [
    "grid.best_params_"
   ]
  }
 ],
 "metadata": {
  "kernelspec": {
   "display_name": "Python (yelp)",
   "language": "python",
   "name": "yelp"
  },
  "language_info": {
   "codemirror_mode": {
    "name": "ipython",
    "version": 3
   },
   "file_extension": ".py",
   "mimetype": "text/x-python",
   "name": "python",
   "nbconvert_exporter": "python",
   "pygments_lexer": "ipython3",
   "version": "3.7.3"
  }
 },
 "nbformat": 4,
 "nbformat_minor": 2
}
