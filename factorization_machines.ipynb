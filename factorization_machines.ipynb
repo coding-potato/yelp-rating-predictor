{
 "cells": [
  {
   "cell_type": "code",
   "execution_count": 1,
   "metadata": {},
   "outputs": [
    {
     "name": "stdout",
     "output_type": "stream",
     "text": [
      "The autoreload extension is already loaded. To reload it, use:\n",
      "  %reload_ext autoreload\n"
     ]
    },
    {
     "data": {
      "application/javascript": [
       "\n",
       "            setTimeout(function() {\n",
       "                var nbb_cell_id = 1;\n",
       "                var nbb_formatted_code = \"%load_ext nb_black\\n%load_ext autoreload\\n%autoreload 2\";\n",
       "                var nbb_cells = Jupyter.notebook.get_cells();\n",
       "                for (var i = 0; i < nbb_cells.length; ++i) {\n",
       "                    if (nbb_cells[i].input_prompt_number == nbb_cell_id) {\n",
       "                        nbb_cells[i].set_text(nbb_formatted_code);\n",
       "                        break;\n",
       "                    }\n",
       "                }\n",
       "            }, 500);\n",
       "            "
      ],
      "text/plain": [
       "<IPython.core.display.Javascript object>"
      ]
     },
     "metadata": {},
     "output_type": "display_data"
    }
   ],
   "source": [
    "%load_ext nb_black\n",
    "%load_ext autoreload\n",
    "%autoreload 2"
   ]
  },
  {
   "cell_type": "code",
   "execution_count": 7,
   "metadata": {},
   "outputs": [
    {
     "data": {
      "application/javascript": [
       "\n",
       "            setTimeout(function() {\n",
       "                var nbb_cell_id = 7;\n",
       "                var nbb_formatted_code = \"import pandas as pd\\nimport numpy as np\\nimport scipy\\nfrom fastFM import als\\nfrom sklearn.metrics import make_scorer, mean_squared_error\\nfrom sklearn.model_selection import GridSearchCV\\nfrom source.utils import train_test_split_feature\";\n",
       "                var nbb_cells = Jupyter.notebook.get_cells();\n",
       "                for (var i = 0; i < nbb_cells.length; ++i) {\n",
       "                    if (nbb_cells[i].input_prompt_number == nbb_cell_id) {\n",
       "                        nbb_cells[i].set_text(nbb_formatted_code);\n",
       "                        break;\n",
       "                    }\n",
       "                }\n",
       "            }, 500);\n",
       "            "
      ],
      "text/plain": [
       "<IPython.core.display.Javascript object>"
      ]
     },
     "metadata": {},
     "output_type": "display_data"
    }
   ],
   "source": [
    "import pandas as pd\n",
    "import numpy as np\n",
    "import scipy\n",
    "from fastFM import als\n",
    "from sklearn.metrics import make_scorer, mean_squared_error\n",
    "from sklearn.model_selection import GridSearchCV\n",
    "from source.utils import train_test_split_feature, rmse_scorer"
   ]
  },
  {
   "cell_type": "code",
   "execution_count": 3,
   "metadata": {},
   "outputs": [
    {
     "data": {
      "text/plain": [
       "(1814134, 85)"
      ]
     },
     "execution_count": 3,
     "metadata": {},
     "output_type": "execute_result"
    },
    {
     "data": {
      "application/javascript": [
       "\n",
       "            setTimeout(function() {\n",
       "                var nbb_cell_id = 3;\n",
       "                var nbb_formatted_code = \"feature = pd.read_csv(\\\"data/feature.csv\\\")\\n\\n# sampled_users = pd.Series(feature.user_id.unique()).sample(500)\\n# feature = feature[feature.user_id.isin(sampled_users)]\\n\\nfeature.shape\";\n",
       "                var nbb_cells = Jupyter.notebook.get_cells();\n",
       "                for (var i = 0; i < nbb_cells.length; ++i) {\n",
       "                    if (nbb_cells[i].input_prompt_number == nbb_cell_id) {\n",
       "                        nbb_cells[i].set_text(nbb_formatted_code);\n",
       "                        break;\n",
       "                    }\n",
       "                }\n",
       "            }, 500);\n",
       "            "
      ],
      "text/plain": [
       "<IPython.core.display.Javascript object>"
      ]
     },
     "metadata": {},
     "output_type": "display_data"
    }
   ],
   "source": [
    "feature = pd.read_csv(\"data/feature.csv\")\n",
    "\n",
    "# sampled_users = pd.Series(feature.user_id.unique()).sample(500)\n",
    "# feature = feature[feature.user_id.isin(sampled_users)]\n",
    "\n",
    "feature.shape"
   ]
  },
  {
   "cell_type": "code",
   "execution_count": 5,
   "metadata": {
    "scrolled": true
   },
   "outputs": [
    {
     "name": "stdout",
     "output_type": "stream",
     "text": [
      "X_train: 1578574, X_test: 235560\n"
     ]
    },
    {
     "data": {
      "text/plain": [
       "('rmse:', 1.406416238414059)"
      ]
     },
     "execution_count": 5,
     "metadata": {},
     "output_type": "execute_result"
    },
    {
     "data": {
      "application/javascript": [
       "\n",
       "            setTimeout(function() {\n",
       "                var nbb_cell_id = 5;\n",
       "                var nbb_formatted_code = \"cols = [\\n    \\\"user_id\\\",\\n    #  'business_id',\\n    \\\"review_stars\\\",\\n    \\\"review_date\\\",\\n    #  'review_props',\\n    #  'user_review_count',\\n    \\\"user_elite\\\",\\n    #  'user_fans',\\n    \\\"user_average_stars\\\",\\n    #  'user_compliment',\\n    #  'user_yelping_years',\\n    \\\"business_stars\\\",\\n    \\\"business_review_count\\\",\\n    \\\"American (New)\\\",\\n    \\\"American (Traditional)\\\",\\n    \\\"Arts & Entertainment\\\",\\n    \\\"Asian Fusion\\\",\\n    \\\"Bagels\\\",\\n    \\\"Bakeries\\\",\\n    \\\"Barbeque\\\",\\n    \\\"Bars\\\",\\n    \\\"Beer\\\",\\n    \\\"Beer Bar\\\",\\n    \\\"Breakfast & Brunch\\\",\\n    \\\"Breweries\\\",\\n    \\\"Buffets\\\",\\n    \\\"Burgers\\\",\\n    \\\"Cafes\\\",\\n    \\\"Caterers\\\",\\n    \\\"Chicken Wings\\\",\\n    \\\"Chinese\\\",\\n    \\\"Cocktail Bars\\\",\\n    \\\"Coffee & Tea\\\",\\n    \\\"Comfort Food\\\",\\n    \\\"Delis\\\",\\n    \\\"Desserts\\\",\\n    \\\"Diners\\\",\\n    \\\"Ethnic Food\\\",\\n    \\\"Event Planning & Services\\\",\\n    \\\"Fast Food\\\",\\n    \\\"Food\\\",\\n    \\\"Food Delivery Services\\\",\\n    \\\"French\\\",\\n    \\\"Gastropubs\\\",\\n    \\\"Gluten-Free\\\",\\n    \\\"Greek\\\",\\n    \\\"Hawaiian\\\",\\n    \\\"Hot Dogs\\\",\\n    \\\"Hotels\\\",\\n    \\\"Hotels & Travel\\\",\\n    \\\"Ice Cream & Frozen Yogurt\\\",\\n    \\\"Indian\\\",\\n    \\\"Italian\\\",\\n    \\\"Japanese\\\",\\n    \\\"Juice Bars & Smoothies\\\",\\n    \\\"Korean\\\",\\n    \\\"Latin American\\\",\\n    \\\"Lounges\\\",\\n    \\\"Mediterranean\\\",\\n    \\\"Mexican\\\",\\n    \\\"Middle Eastern\\\",\\n    \\\"Music Venues\\\",\\n    \\\"Nightlife\\\",\\n    \\\"Noodles\\\",\\n    \\\"Pizza\\\",\\n    \\\"Pubs\\\",\\n    \\\"Salad\\\",\\n    \\\"Sandwiches\\\",\\n    \\\"Seafood\\\",\\n    \\\"Soup\\\",\\n    \\\"Southern\\\",\\n    \\\"Specialty Food\\\",\\n    \\\"Sports Bars\\\",\\n    \\\"Steakhouses\\\",\\n    \\\"Sushi Bars\\\",\\n    \\\"Tacos\\\",\\n    \\\"Tapas/Small Plates\\\",\\n    \\\"Tex-Mex\\\",\\n    \\\"Thai\\\",\\n    \\\"Vegan\\\",\\n    \\\"Vegetarian\\\",\\n    \\\"Venues & Event Spaces\\\",\\n    \\\"Vietnamese\\\",\\n    \\\"Wine & Spirits\\\",\\n    \\\"Wine Bars\\\",\\n]\\n\\nselected_feature = feature[cols]\\n\\nX_train, X_test, y_train, y_test = train_test_split_feature(selected_feature.copy())\\nprint(f\\\"X_train: {len(X_train)}, X_test: {len(X_test)}\\\")\\n\\nX_train = scipy.sparse.csc_matrix(X_train.values)\\nX_test = scipy.sparse.csc_matrix(X_test.values)\\n\\nfm = als.FMRegression(n_iter=1000, init_stdev=0.1, rank=20, l2_reg_w=0.1, l2_reg_V=0.5)\\nfm.fit(X_train, y_train)\\ny_pred = fm.predict(X_test)\\n\\n\\\"rmse:\\\", rmse(y_test, y_pred)\";\n",
       "                var nbb_cells = Jupyter.notebook.get_cells();\n",
       "                for (var i = 0; i < nbb_cells.length; ++i) {\n",
       "                    if (nbb_cells[i].input_prompt_number == nbb_cell_id) {\n",
       "                        nbb_cells[i].set_text(nbb_formatted_code);\n",
       "                        break;\n",
       "                    }\n",
       "                }\n",
       "            }, 500);\n",
       "            "
      ],
      "text/plain": [
       "<IPython.core.display.Javascript object>"
      ]
     },
     "metadata": {},
     "output_type": "display_data"
    }
   ],
   "source": [
    "cols = [\n",
    "    \"user_id\",\n",
    "    #  'business_id',\n",
    "    \"review_stars\",\n",
    "    \"review_date\",\n",
    "    #  'review_props',\n",
    "    #  'user_review_count',\n",
    "    \"user_elite\",\n",
    "    #  'user_fans',\n",
    "    \"user_average_stars\",\n",
    "    #  'user_compliment',\n",
    "    #  'user_yelping_years',\n",
    "    \"business_stars\",\n",
    "    \"business_review_count\",\n",
    "    \"American (New)\",\n",
    "    \"American (Traditional)\",\n",
    "    \"Arts & Entertainment\",\n",
    "    \"Asian Fusion\",\n",
    "    \"Bagels\",\n",
    "    \"Bakeries\",\n",
    "    \"Barbeque\",\n",
    "    \"Bars\",\n",
    "    \"Beer\",\n",
    "    \"Beer Bar\",\n",
    "    \"Breakfast & Brunch\",\n",
    "    \"Breweries\",\n",
    "    \"Buffets\",\n",
    "    \"Burgers\",\n",
    "    \"Cafes\",\n",
    "    \"Caterers\",\n",
    "    \"Chicken Wings\",\n",
    "    \"Chinese\",\n",
    "    \"Cocktail Bars\",\n",
    "    \"Coffee & Tea\",\n",
    "    \"Comfort Food\",\n",
    "    \"Delis\",\n",
    "    \"Desserts\",\n",
    "    \"Diners\",\n",
    "    \"Ethnic Food\",\n",
    "    \"Event Planning & Services\",\n",
    "    \"Fast Food\",\n",
    "    \"Food\",\n",
    "    \"Food Delivery Services\",\n",
    "    \"French\",\n",
    "    \"Gastropubs\",\n",
    "    \"Gluten-Free\",\n",
    "    \"Greek\",\n",
    "    \"Hawaiian\",\n",
    "    \"Hot Dogs\",\n",
    "    \"Hotels\",\n",
    "    \"Hotels & Travel\",\n",
    "    \"Ice Cream & Frozen Yogurt\",\n",
    "    \"Indian\",\n",
    "    \"Italian\",\n",
    "    \"Japanese\",\n",
    "    \"Juice Bars & Smoothies\",\n",
    "    \"Korean\",\n",
    "    \"Latin American\",\n",
    "    \"Lounges\",\n",
    "    \"Mediterranean\",\n",
    "    \"Mexican\",\n",
    "    \"Middle Eastern\",\n",
    "    \"Music Venues\",\n",
    "    \"Nightlife\",\n",
    "    \"Noodles\",\n",
    "    \"Pizza\",\n",
    "    \"Pubs\",\n",
    "    \"Salad\",\n",
    "    \"Sandwiches\",\n",
    "    \"Seafood\",\n",
    "    \"Soup\",\n",
    "    \"Southern\",\n",
    "    \"Specialty Food\",\n",
    "    \"Sports Bars\",\n",
    "    \"Steakhouses\",\n",
    "    \"Sushi Bars\",\n",
    "    \"Tacos\",\n",
    "    \"Tapas/Small Plates\",\n",
    "    \"Tex-Mex\",\n",
    "    \"Thai\",\n",
    "    \"Vegan\",\n",
    "    \"Vegetarian\",\n",
    "    \"Venues & Event Spaces\",\n",
    "    \"Vietnamese\",\n",
    "    \"Wine & Spirits\",\n",
    "    \"Wine Bars\",\n",
    "]\n",
    "\n",
    "selected_feature = feature[cols]\n",
    "\n",
    "X_train, X_test, y_train, y_test = train_test_split_feature(selected_feature.copy())\n",
    "print(f\"X_train: {len(X_train)}, X_test: {len(X_test)}\")\n",
    "\n",
    "X_train = scipy.sparse.csc_matrix(X_train.values)\n",
    "X_test = scipy.sparse.csc_matrix(X_test.values)\n",
    "\n",
    "fm = als.FMRegression(n_iter=1000, init_stdev=0.1, rank=20, l2_reg_w=0.1, l2_reg_V=0.5)\n",
    "fm.fit(X_train, y_train)\n",
    "y_pred = fm.predict(X_test)\n",
    "\n",
    "\"rmse:\", rmse(y_test, y_pred)"
   ]
  },
  {
   "cell_type": "code",
   "execution_count": null,
   "metadata": {},
   "outputs": [
    {
     "name": "stderr",
     "output_type": "stream",
     "text": [
      "/Users/Ikkei/anaconda3/lib/python3.7/site-packages/sklearn/model_selection/_split.py:1978: FutureWarning: The default value of cv will change from 3 to 5 in version 0.22. Specify it explicitly to silence this warning.\n",
      "  warnings.warn(CV_WARNING, FutureWarning)\n"
     ]
    },
    {
     "name": "stdout",
     "output_type": "stream",
     "text": [
      "Fitting 3 folds for each of 9 candidates, totalling 27 fits\n"
     ]
    },
    {
     "name": "stderr",
     "output_type": "stream",
     "text": [
      "[Parallel(n_jobs=-1)]: Using backend LokyBackend with 4 concurrent workers.\n"
     ]
    }
   ],
   "source": [
    "params = {\n",
    "    \"l2_reg_w\": np.linspace(0.01, 0.3, num=3),\n",
    "    \"l2_reg_V\": np.linspace(0.1, 0.5, num=3),\n",
    "}\n",
    "\n",
    "fm = als.FMRegression(n_iter=1000, init_stdev=0.1, rank=20)\n",
    "grid = GridSearchCV(fm, params, verbose=3, n_jobs=-1, scoring=rmse_scorer)\n",
    "grid.fit(X_train, y_train)\n",
    "y_pred = grid.predict(X_test)\n",
    "\n",
    "\"rmse:\", rmse(y_test, y_pred)"
   ]
  },
  {
   "cell_type": "code",
   "execution_count": null,
   "metadata": {},
   "outputs": [],
   "source": [
    "grid.best_params_"
   ]
  }
 ],
 "metadata": {
  "kernelspec": {
   "display_name": "Python (yelp)",
   "language": "python",
   "name": "yelp"
  },
  "language_info": {
   "codemirror_mode": {
    "name": "ipython",
    "version": 3
   },
   "file_extension": ".py",
   "mimetype": "text/x-python",
   "name": "python",
   "nbconvert_exporter": "python",
   "pygments_lexer": "ipython3",
   "version": "3.7.3"
  }
 },
 "nbformat": 4,
 "nbformat_minor": 2
}
