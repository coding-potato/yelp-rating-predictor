{
 "cells": [
  {
   "cell_type": "code",
   "execution_count": 1,
   "metadata": {},
   "outputs": [],
   "source": [
    "%load_ext nb_black\n",
    "%load_ext autoreload\n",
    "%autoreload 2"
   ]
  },
  {
   "cell_type": "code",
   "execution_count": 2,
   "metadata": {},
   "outputs": [],
   "source": [
    "import pandas as pd\n",
    "import numpy as np\n",
    "import scipy\n",
    "from source.fm import FMRecommender\n",
    "from sklearn.metrics import make_scorer, mean_squared_error\n",
    "from sklearn.model_selection import GridSearchCV\n",
    "from source.utils import train_test_split_feature, rmse_scorer, rmse\n",
    "from sklearn.preprocessing import OneHotEncoder"
   ]
  },
  {
   "cell_type": "code",
   "execution_count": 3,
   "metadata": {},
   "outputs": [
    {
     "data": {
      "text/plain": [
       "(1814134, 85)"
      ]
     },
     "execution_count": 3,
     "metadata": {},
     "output_type": "execute_result"
    }
   ],
   "source": [
    "feature = pd.read_csv(\"data/feature.csv\")\n",
    "feature.shape"
   ]
  },
  {
   "cell_type": "code",
   "execution_count": 26,
   "metadata": {},
   "outputs": [],
   "source": [
    "# Just sample some data to train quickly\n",
    "sample_n_users = 5000\n",
    "users = pd.Series(feature.user_id.unique())\n",
    "sampled_users = users.sample(sample_n_users, random_state=1)\n",
    "feature = feature[feature.user_id.isin(sampled_users)].copy().reset_index(drop=True)"
   ]
  },
  {
   "cell_type": "code",
   "execution_count": 5,
   "metadata": {},
   "outputs": [],
   "source": [
    "# onehot encode user_id and business_id\n",
    "onehot = OneHotEncoder(sparse=False)\n",
    "cat_wide = onehot.fit_transform(feature[[\"user_id\", \"business_id\"]])\n",
    "\n",
    "user_cols = onehot.categories_[0].tolist()\n",
    "bus_cols = onehot.categories_[1].tolist()\n",
    "cat_wide = pd.DataFrame(cat_wide, columns=user_cols + bus_cols)\n",
    "feature = pd.merge(feature, cat_wide, left_index=True, right_index=True)"
   ]
  },
  {
   "cell_type": "code",
   "execution_count": 6,
   "metadata": {},
   "outputs": [],
   "source": [
    "def create_x_y(train, test):\n",
    "    y_col = \"review_stars\"\n",
    "    drop_cols = [y_col, \"user_id\", \"review_date\"]\n",
    "    X_train, y_train = train.drop(columns=drop_cols), train[y_col]\n",
    "    X_test, y_test = test.drop(columns=drop_cols), test[y_col]\n",
    "\n",
    "    return X_train, X_test, y_train, y_test"
   ]
  },
  {
   "cell_type": "code",
   "execution_count": 21,
   "metadata": {},
   "outputs": [],
   "source": [
    "feat_cols = [\n",
    "      'review_props',\n",
    "        \"user_review_count\",\n",
    "        \"user_elite\",\n",
    "        'user_fans',\n",
    "          \"user_average_stars\",\n",
    "        'user_compliment',\n",
    "     'user_yelping_years',\n",
    "     #   \"business_stars\",\n",
    "      #  \"business_review_count\",\n",
    "        \"American (New)\",\n",
    "        \"American (Traditional)\",\n",
    "        \"Arts & Entertainment\",\n",
    "        \"Asian Fusion\",\n",
    "        \"Bagels\",\n",
    "        \"Bakeries\",\n",
    "        \"Barbeque\",\n",
    "        \"Bars\",\n",
    "        \"Beer\",\n",
    "        \"Beer Bar\",\n",
    "        \"Breakfast & Brunch\",\n",
    "        \"Breweries\",\n",
    "        \"Buffets\",\n",
    "        \"Burgers\",\n",
    "        \"Cafes\",\n",
    "        \"Caterers\",\n",
    "        \"Chicken Wings\",\n",
    "        \"Chinese\",\n",
    "        \"Cocktail Bars\",\n",
    "        \"Coffee & Tea\",\n",
    "        \"Comfort Food\",\n",
    "        \"Delis\",\n",
    "        \"Desserts\",\n",
    "        \"Diners\",\n",
    "        \"Ethnic Food\",\n",
    "        \"Event Planning & Services\",\n",
    "        \"Fast Food\",\n",
    "        \"Food\",\n",
    "        \"Food Delivery Services\",\n",
    "        \"French\",\n",
    "        \"Gastropubs\",\n",
    "        \"Gluten-Free\",\n",
    "        \"Greek\",\n",
    "        \"Hawaiian\",\n",
    "        \"Hot Dogs\",\n",
    "        \"Hotels\",\n",
    "        \"Hotels & Travel\",\n",
    "        \"Ice Cream & Frozen Yogurt\",\n",
    "        \"Indian\",\n",
    "        \"Italian\",\n",
    "        \"Japanese\",\n",
    "        \"Juice Bars & Smoothies\",\n",
    "        \"Korean\",\n",
    "        \"Latin American\",\n",
    "        \"Lounges\",\n",
    "        \"Mediterranean\",\n",
    "        \"Mexican\",\n",
    "        \"Middle Eastern\",\n",
    "        \"Music Venues\",\n",
    "        \"Nightlife\",\n",
    "        \"Noodles\",\n",
    "        \"Pizza\",\n",
    "        \"Pubs\",\n",
    "        \"Salad\",\n",
    "        \"Sandwiches\",\n",
    "        \"Seafood\",\n",
    "        \"Soup\",\n",
    "        \"Southern\",\n",
    "        \"Specialty Food\",\n",
    "        \"Sports Bars\",\n",
    "        \"Steakhouses\",\n",
    "        \"Sushi Bars\",\n",
    "        \"Tacos\",\n",
    "        \"Tapas/Small Plates\",\n",
    "        \"Tex-Mex\",\n",
    "        \"Thai\",\n",
    "        \"Vegan\",\n",
    "        \"Vegetarian\",\n",
    "        \"Venues & Event Spaces\",\n",
    "        \"Vietnamese\",\n",
    "        \"Wine & Spirits\",\n",
    "        \"Wine Bars\",\n",
    "]\n",
    "\n",
    "base_cols = [\"user_id\", \"review_stars\", \"review_date\"]\n",
    "\n",
    "selected_feature = feature[base_cols + user_cols + bus_cols + feat_cols].copy()\n",
    "train, test = train_test_split_feature(selected_feature)\n",
    "X_train, X_test, y_train, y_test = create_x_y(train, test)\n",
    "\n",
    "fm = FMRecommender(X_train, X_test, y_train, y_test)\n",
    "\n",
    "param = {'task':'reg', 'lr':0.2,'lambda':0.002, 'metric':'rmse', 'k':20} # defaults\n",
    "\n",
    "fm.fit(param)\n",
    "y_pred = fm.predict()\n",
    "rmse_val = rmse(y_test, y_pred)\n",
    "\n",
    "result = pd.DataFrame([{\"Features\": feat_cols, \"RMSE\": rmse_val}])\n",
    "result.to_csv(\"data/feature_selection.csv\", mode=\"a\", header=False, index=False)"
   ]
  },
  {
   "cell_type": "markdown",
   "metadata": {},
   "source": [
    "## Hyperparameter tuning"
   ]
  },
  {
   "cell_type": "code",
   "execution_count": 23,
   "metadata": {
    "scrolled": true
   },
   "outputs": [],
   "source": [
    "def fit_param(model, param):\n",
    "    model.fit(param, './model_dm.out')\n",
    "    model.setTest(xdm_test)  # Test data\n",
    "    y_pred = model.predict(\"./model_dm.out\")\n",
    "    return rmse(y_test, y_pred)\n",
    "\n",
    "rsmes = []\n",
    "params= [{'task':'reg', 'lr':0.2,'lambda':0.002, 'metric':'rmse', 'k':10},\n",
    "         {'task':'reg', 'lr':0.2,'lambda':0.002, 'metric':'rmse', 'k':20},\n",
    "         {'task':'reg', 'lr':0.2,'lambda':0.002, 'metric':'rmse', 'k':30},\n",
    "         {'task':'reg', 'lr':0.2,'lambda':0.002, 'metric':'rmse', 'k':40},\n",
    "         {'task':'reg', 'lr':0.1,'lambda':0.002, 'metric':'rmse', 'k':20},\n",
    "         {'task':'reg', 'lr':0.2,'lambda':0.002, 'metric':'rmse', 'k':20},\n",
    "         {'task':'reg', 'lr':0.3,'lambda':0.002, 'metric':'rmse', 'k':20},\n",
    "         {'task':'reg', 'lr':0.5,'lambda':0.002, 'metric':'rmse', 'k':20},\n",
    "         {'task':'reg', 'lr':0.2,'lambda':0.0002, 'metric':'rmse', 'k':20},\n",
    "         {'task':'reg', 'lr':0.2,'lambda':0.002, 'metric':'rmse', 'k':20},\n",
    "         {'task':'reg', 'lr':0.2,'lambda':0.02, 'metric':'rmse', 'k':20},\n",
    "         {'task':'reg', 'lr':0.2,'lambda':0.2, 'metric':'rmse', 'k':20}]\n",
    "\n",
    "for param in params:\n",
    "    rsmes.append(fit_param(fm_model, param))\n",
    "\n",
    "results = pd.DataFrame({\"Params\": params, \"RMSE\": rsmes})\n",
    "results.to_csv(\"data/param_selection.csv\", index=False)"
   ]
  }
 ],
 "metadata": {
  "kernelspec": {
   "display_name": "Python 3",
   "language": "python",
   "name": "python3"
  },
  "language_info": {
   "codemirror_mode": {
    "name": "ipython",
    "version": 3
   },
   "file_extension": ".py",
   "mimetype": "text/x-python",
   "name": "python",
   "nbconvert_exporter": "python",
   "pygments_lexer": "ipython3",
   "version": "3.6.8"
  }
 },
 "nbformat": 4,
 "nbformat_minor": 2
}
